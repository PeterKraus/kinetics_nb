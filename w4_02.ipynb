{
 "cells": [
  {
   "cell_type": "code",
   "execution_count": 1,
   "metadata": {},
   "outputs": [
    {
     "data": {
      "application/javascript": [
       "$('#appmode-leave').hide();\n",
       "$('#copy-binder-link').hide();\n",
       "$('#visit-repo-link').hide();\n"
      ],
      "text/plain": [
       "<IPython.core.display.Javascript object>"
      ]
     },
     "metadata": {},
     "output_type": "display_data"
    }
   ],
   "source": [
    "%%javascript\n",
    "$('#appmode-leave').hide();\n",
    "$('#copy-binder-link').hide();\n",
    "$('#visit-repo-link').hide();"
   ]
  },
  {
   "cell_type": "code",
   "execution_count": 2,
   "metadata": {},
   "outputs": [],
   "source": [
    "import ipywidgets as ipw\n",
    "import json\n",
    "import random\n",
    "import time\n",
    "import pandas as pd\n",
    "import os\n",
    "import webbrowser\n",
    "import math\n",
    "from IPython.display import display, Markdown\n",
    "\n",
    "# set kinetic parameters\n",
    "with open(\"rate_parameters.json\") as infile:\n",
    "    jsdata = json.load(infile)\n",
    "\n",
    "params = jsdata[\"kin1\"]"
   ]
  },
  {
   "cell_type": "markdown",
   "metadata": {},
   "source": [
    "Copyright **Peter Kraus and Paolo Raiteri**, January 2021\n",
    "\n",
    "## Numerical solution of chemical equilibrium problems #2\n",
    "Sea water is a complex mixture of electrolytes and organic matter in dynamic equilibrium with each other.\n",
    "Calcium and Magnisium are among the most abundants ion present in sea water and in this exercise we want to study the equilibrium between those two ion and sulphate.\n",
    "Assuming all other species present in the solution have a negligible effect on the ion association, the two reactions we need to consider are\n",
    "\n",
    "\\begin{equation}\n",
    "\\mathrm{Ca^{2+}(aq) + SO_4^{2-}(aq) \\rightleftharpoons CaSO_4} \\qquad ; \\qquad pK_{1} = 2.325\n",
    "\\end{equation}\n",
    "\n",
    "and\n",
    "\n",
    "\\begin{equation}\n",
    "\\mathrm{Mg^{2+}(aq) + SO_4^{2-}(aq) \\rightleftharpoons MgSO_4} \\qquad ; \\qquad pK_{2} = 2.194\n",
    "\\end{equation}\n",
    "\n",
    "We can start again by constructing the *ICE* table\n",
    "\n",
    "|      | [Ca]        | [Mg]       | [SO$_4^{2-}$]           | [CaSO$_4$]          |[MgSO$_4$] \n",
    "| :--- | :--------:  |:---------: |:---------:              | :--:                | :--:\n",
    "| *I*  | [Ca]$_0$    | [Mg]$_0$   | [SO$_4^{2-}$]$_0$       | [CaSO$_4$]$_0$      | [MgSO$_4$]$_0$\n",
    "| *C*  | -x          | -y         | +x +y                   | +x                  | +y \n",
    "| *E*  | [Ca]$_0$-x  | [Mg]$_0$-y | [SO$_4^{2-}$]$_0$ -x -y | [CaSO$_4$]$_0$ +x   | [MgSO$_4$]$_0$ +y\n",
    "\n",
    "Then, following the same procedure we devised in the previous exercise we can define the *driving forces* in the system using the logarithm of the ratio between the reaction quotient and the equilibrium constant\n",
    "\n",
    "\\begin{equation}\n",
    "x = -\\delta\\ln\\bigg[\\frac{Q_1}{K_{1}}\\bigg] \\qquad ; \\qquad y = -\\delta\\ln\\bigg[\\frac{Q_2}{K_{2}}\\bigg]\n",
    "\\end{equation}\n",
    "\n",
    "where\n",
    "\n",
    "\\begin{equation}\n",
    "Q_1 = \\dfrac{\\mathrm{[CaSO_4]}}{\\mathrm{[Ca^{2+}][SO_4^{2-}]}} \\qquad \\mathrm{and} \\qquad \n",
    "Q_2 = \\dfrac{\\mathrm{[MgSO_4]}}{\\mathrm{[Mg^{2+}][SO_4^{2-}]}}\n",
    "\\end{equation}\n",
    "\n",
    "Using an excel spreadsheet that implements a self-consistent procedure similar to the one used inthe previous exercise you can now study what are the equilibrium concentrations of Ca$^{2+}$,  Mg$^{2+}$, SO$_4^{2-}$, CaSO$_4$ and MgSO$_4$ for any starting concentrations of the ions.\n",
    "\n",
    "Note that because the equilibrium constants are quite small, in this execise you have to use a very small delta to ensure that the self consistent loop converges. Hence, you may have to use a large number of steps to reach self-consistency.\n",
    "\n",
    "- Click `Download CSV` to export the data as a CSV file to verify your result.\n"
   ]
  },
  {
   "cell_type": "code",
   "execution_count": 3,
   "metadata": {},
   "outputs": [],
   "source": [
    "def initialise():\n",
    "    global nPoints\n",
    "    global concA, concB, concC\n",
    "    global Keq1, Keq2\n",
    "    global delta\n",
    "\n",
    "    nPoints = 20\n",
    "    concA = 1\n",
    "    concB = 0.1\n",
    "    concC = 0.2\n",
    "    Keq1 = math.pow(10,-2.325)\n",
    "    Keq2 = math.pow(10,-2.194)\n",
    "    delta = 0.0001\n",
    "\n",
    "def addLine(t,x,y,z,xz,yz,res):\n",
    "    var_list = []\n",
    "    var_list.append(t)\n",
    "    var_list.append(x)\n",
    "    var_list.append(y)\n",
    "    var_list.append(z)\n",
    "    var_list.append(xz)\n",
    "    var_list.append(yz)\n",
    "    res.loc[len(res)] = var_list\n",
    "\n",
    "initialise()\n"
   ]
  },
  {
   "cell_type": "code",
   "execution_count": 4,
   "metadata": {},
   "outputs": [
    {
     "data": {
      "application/vnd.jupyter.widget-view+json": {
       "model_id": "245de3e377014f3f81c50a3681373117",
       "version_major": 2,
       "version_minor": 0
      },
      "text/plain": [
       "VBox(children=(HBox(children=(Label(value='Initial concentration of Ca$^{2+}$    :  '), Text(value='1'))), HBo…"
      ]
     },
     "metadata": {},
     "output_type": "display_data"
    }
   ],
   "source": [
    "out_P = ipw.Output()\n",
    "out_L = ipw.Output()\n",
    "\n",
    "with out_L:\n",
    "    display(Markdown(\"[Download CSV](./results.csv)\"))\n",
    "\n",
    "    \n",
    "def force(Q,k):\n",
    "    if (abs(Q) > 1.e-6):\n",
    "        force = - math.log(Q/k)\n",
    "    else:\n",
    "        force = 1.\n",
    "\n",
    "    return force\n",
    "\n",
    "def calc1(btn):\n",
    "    out_P.clear_output()\n",
    "    \n",
    "    if os.path.exists(os.path.join(os.getcwd(), \"results.csv\")):\n",
    "        os.remove(os.path.join(os.getcwd(), \"results.csv\"))\n",
    "    res = pd.DataFrame(columns=[\"step\" , \"[Ca${2+}]\" , \"[Mg${2+}]\", \"[SO$_4^{2-}$]\", \"[CaSO$_4$]\", \"[MgSO$_4$]\"])\n",
    "\n",
    "    A  = float(concA_text.value)\n",
    "    B  = float(concB_text.value)\n",
    "    C  = float(concC_text.value)\n",
    "    AC = 0\n",
    "    BC = 0\n",
    "    dx = float(delta_text.value)\n",
    "    k1 = float(Keq1_text.value)\n",
    "    k2 = float(Keq2_text.value)\n",
    "    n  = int(nPoints_text.value)\n",
    "\n",
    "    addLine(0,A,B,C,AC,BC,res)\n",
    "\n",
    "    for i in range(0, n):\n",
    "        Q1 = AC / A / C\n",
    "        Q2 = BC / B / C\n",
    "        f1 = force(Q1,k1)\n",
    "        f2 = force(Q2,k2)\n",
    "        A = A - dx * f1\n",
    "        B = B - dx * f2\n",
    "        C = C - dx * (f1 + f2)\n",
    "        AC = AC + dx * f1\n",
    "        BC = BC + dx * f2\n",
    "        \n",
    "        addLine(i,A,B,C,AC,BC,res)\n",
    "\n",
    "        \n",
    "    res.to_csv(\"results.csv\", index=False)\n",
    "    with out_P:\n",
    "        display(res.tail(n))\n",
    "\n",
    "btn_calc1 = ipw.Button(description=\"Get Data\", layout=ipw.Layout(width=\"150px\"))\n",
    "btn_calc1.on_click(calc1)\n",
    "\n",
    "rows = []\n",
    "\n",
    "# Equilibrium constant\n",
    "Keq1_text = ipw.Text(str(Keq1))\n",
    "Keq2_text = ipw.Text(str(Keq2))\n",
    "\n",
    "# Initial concentrations\n",
    "concA_text = ipw.Text(str(concA))\n",
    "\n",
    "concB_text = ipw.Text(str(concB))\n",
    "\n",
    "concC_text = ipw.Text(str(concC))\n",
    "\n",
    "# delta concentration\n",
    "delta_text = ipw.Text(str(delta))\n",
    "\n",
    "# Nmber of data points\n",
    "nPoints_text = ipw.Text(str(nPoints))\n",
    "\n",
    "rows.append(ipw.HBox([ipw.Label('Initial concentration of Ca$^{2+}$    :  '),concA_text]))\n",
    "rows.append(ipw.HBox([ipw.Label('Initial concentration of Mg$^{2+}$    :  '),concB_text]))\n",
    "rows.append(ipw.HBox([ipw.Label('Initial concentration of SO$_4^{2-}$  :  '),concC_text]))\n",
    "rows.append(ipw.HBox([ipw.Label('Equilibrium constant ($K_1$)          :  '),Keq1_text]))\n",
    "rows.append(ipw.HBox([ipw.Label('Equilibrium constant ($K_2$)          :  '),Keq2_text]))\n",
    "rows.append(ipw.HBox([ipw.Label('Delta concentration                   :  '),delta_text]))\n",
    "rows.append(ipw.HBox([ipw.Label('Number of data point required         :  '),nPoints_text]))\n",
    "\n",
    "rows.append(ipw.HBox([btn_calc1]))\n",
    "\n",
    "rows.append(ipw.HBox([out_L]))\n",
    "rows.append(ipw.HBox([out_P]))\n",
    "\n",
    "ipw.VBox(rows)"
   ]
  },
  {
   "cell_type": "code",
   "execution_count": null,
   "metadata": {},
   "outputs": [],
   "source": []
  }
 ],
 "metadata": {
  "kernelspec": {
   "display_name": "Python 3",
   "language": "python",
   "name": "python3"
  },
  "language_info": {
   "codemirror_mode": {
    "name": "ipython",
    "version": 3
   },
   "file_extension": ".py",
   "mimetype": "text/x-python",
   "name": "python",
   "nbconvert_exporter": "python",
   "pygments_lexer": "ipython3",
   "version": "3.9.1"
  }
 },
 "nbformat": 4,
 "nbformat_minor": 4
}
