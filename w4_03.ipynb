{
 "cells": [
  {
   "cell_type": "code",
   "execution_count": 1,
   "metadata": {},
   "outputs": [
    {
     "data": {
      "application/javascript": [
       "$('#appmode-leave').hide();\n",
       "$('#copy-binder-link').hide();\n",
       "$('#visit-repo-link').hide();\n"
      ],
      "text/plain": [
       "<IPython.core.display.Javascript object>"
      ]
     },
     "metadata": {},
     "output_type": "display_data"
    }
   ],
   "source": [
    "%%javascript\n",
    "$('#appmode-leave').hide();\n",
    "$('#copy-binder-link').hide();\n",
    "$('#visit-repo-link').hide();"
   ]
  },
  {
   "cell_type": "code",
   "execution_count": 2,
   "metadata": {},
   "outputs": [],
   "source": [
    "import ipywidgets as ipw\n",
    "import json\n",
    "import random\n",
    "import time\n",
    "import pandas as pd\n",
    "import os\n",
    "import webbrowser\n",
    "import math\n",
    "from IPython.display import display, Markdown\n",
    "\n",
    "# set kinetic parameters\n",
    "with open(\"rate_parameters.json\") as infile:\n",
    "    jsdata = json.load(infile)\n",
    "\n",
    "params = jsdata[\"kin1\"]"
   ]
  },
  {
   "cell_type": "markdown",
   "metadata": {},
   "source": [
    "Copyright **Peter Kraus and Paolo Raiteri**, January 2021\n",
    "\n",
    "## Numerical solution of chemical equilibrium problems #3\n",
    "Try now to determine the amount of acetic acid and acetate in a solution whose pH is kept constat at a chosen value by external titration. Assume that this is the only reaction taking plane in the system\n",
    "\\begin{equation}\n",
    "\\mathrm{CH_3COOH \\rightleftharpoons CH_3COO^{-} + H^+} \\qquad pK_{a} = 3.74\n",
    "\\end{equation}\n",
    "\n",
    "\n",
    "- Click `Download CSV` to export the data as a CSV file to verify your result.\n"
   ]
  },
  {
   "cell_type": "code",
   "execution_count": 3,
   "metadata": {},
   "outputs": [],
   "source": [
    "def initialise():\n",
    "    global nPoints\n",
    "    global concA, concB, pH\n",
    "    global pKeq1\n",
    "    global delta\n",
    "\n",
    "    nPoints = 500\n",
    "    concA = 0.1\n",
    "    concB = 0.1\n",
    "    pH = 7\n",
    "    pKeq1 = 4.76\n",
    "    delta = 0.1\n",
    "\n",
    "def addLine(t,x,y,q1,res):\n",
    "    var_list = []\n",
    "    var_list.append(t)\n",
    "    var_list.append(x)\n",
    "    var_list.append(y)\n",
    "    var_list.append(q1)\n",
    "    res.loc[len(res)] = var_list\n",
    "\n",
    "initialise()\n"
   ]
  },
  {
   "cell_type": "code",
   "execution_count": 5,
   "metadata": {},
   "outputs": [
    {
     "data": {
      "application/vnd.jupyter.widget-view+json": {
       "model_id": "13a4c695db9d4032adcb6c05951b4c3d",
       "version_major": 2,
       "version_minor": 0
      },
      "text/plain": [
       "VBox(children=(HBox(children=(Label(value='Initial concentration of \"CH$_3$COOH\" :  '), Text(value='0.1'))), H…"
      ]
     },
     "metadata": {},
     "output_type": "display_data"
    }
   ],
   "source": [
    "respath = os.path.join(os.getcwd(), \"..\", \"results.csv\")\n",
    "\n",
    "out_P = ipw.Output()\n",
    "out_L = ipw.Output()\n",
    "\n",
    "with out_L:\n",
    "    display(Markdown(\"[Download CSV](../results.csv)\"))\n",
    "\n",
    "    \n",
    "def force(Q,pk):\n",
    "    if (Q > 0):\n",
    "        force = - (math.log(Q,10) + pk)\n",
    "    else:\n",
    "        force = 1.\n",
    "\n",
    "    return force\n",
    "\n",
    "def calc1(btn):\n",
    "    out_P.clear_output()\n",
    "    \n",
    "    if os.path.exists(respath):\n",
    "        os.remove(respath)\n",
    "    res = pd.DataFrame(columns=[\"step\" \n",
    "                                , \"CH$_3$COOH\" \n",
    "                                , \"CH$_3$COO$^{-}$\" \n",
    "                                , \"p($Q_1$)\"\n",
    "                               ])\n",
    "\n",
    "    A  = float(concA_text.value)\n",
    "    B  = float(concB_text.value)\n",
    "    H  = math.pow(10,-float(pH_text.value))\n",
    "\n",
    "    dx = float(delta_text.value)\n",
    "    pk1 = float(pKeq1_text.value)\n",
    "    n  = int(nPoints_text.value)\n",
    "\n",
    "    Q1 = B * H / A\n",
    "    \n",
    "    addLine(1,A,B,\n",
    "            -math.log(Q1,10),\n",
    "            res)\n",
    "    \n",
    "    for i in range(0, n):\n",
    "        f1 = force(Q1,pk1)\n",
    "\n",
    "        dx1 = min(A,B)*(dx * f1)\n",
    "        \n",
    "        A = A - dx1\n",
    "        B = B + dx1\n",
    "\n",
    "        Q1 = B * H / A            \n",
    "\n",
    "        addLine(i+1,A,B,\n",
    "                -math.log(Q1,10),\n",
    "                res)\n",
    "\n",
    "    res.to_csv(respath, index=False)\n",
    "    with out_P:\n",
    "        display(res.tail(n))\n",
    "\n",
    "btn_calc1 = ipw.Button(description=\"Get Data\", layout=ipw.Layout(width=\"150px\"))\n",
    "btn_calc1.on_click(calc1)\n",
    "\n",
    "rows = []\n",
    "\n",
    "# Equilibrium constant\n",
    "pKeq1_text = ipw.Text(str(pKeq1))\n",
    "\n",
    "# Initial concentrations\n",
    "concA_text = ipw.Text(str(concA))\n",
    "concB_text = ipw.Text(str(concB))\n",
    "pH_text = ipw.Text(str(pH))\n",
    "\n",
    "# delta concentration\n",
    "delta_text = ipw.Text(str(delta))\n",
    "\n",
    "# Nmber of data points\n",
    "nPoints_text = ipw.Text(str(nPoints))\n",
    "\n",
    "rows.append(ipw.HBox([ipw.Label('Initial concentration of \"CH$_3$COOH\" :  '),concA_text]))\n",
    "rows.append(ipw.HBox([ipw.Label('Initial concentration of \"CH$_3$OO$^{-}$\" :  '),concB_text]))\n",
    "rows.append(ipw.HBox([ipw.Label('Buffer pH    :  '),pH_text]))\n",
    "rows.append(ipw.HBox([ipw.Label('Equilibrium constant ($pK_1$)          :  '),pKeq1_text]))\n",
    "rows.append(ipw.HBox([ipw.Label('Delta concentration                   :  '),delta_text]))\n",
    "rows.append(ipw.HBox([ipw.Label('Number of data point required         :  '),nPoints_text]))\n",
    "\n",
    "rows.append(ipw.HBox([btn_calc1]))\n",
    "\n",
    "rows.append(ipw.HBox([out_L]))\n",
    "rows.append(ipw.HBox([out_P]))\n",
    "\n",
    "ipw.VBox(rows)"
   ]
  },
  {
   "cell_type": "code",
   "execution_count": null,
   "metadata": {},
   "outputs": [],
   "source": []
  },
  {
   "cell_type": "code",
   "execution_count": null,
   "metadata": {},
   "outputs": [],
   "source": []
  }
 ],
 "metadata": {
  "kernelspec": {
   "display_name": "Python 3",
   "language": "python",
   "name": "python3"
  },
  "language_info": {
   "codemirror_mode": {
    "name": "ipython",
    "version": 3
   },
   "file_extension": ".py",
   "mimetype": "text/x-python",
   "name": "python",
   "nbconvert_exporter": "python",
   "pygments_lexer": "ipython3",
   "version": "3.9.1"
  }
 },
 "nbformat": 4,
 "nbformat_minor": 4
}
