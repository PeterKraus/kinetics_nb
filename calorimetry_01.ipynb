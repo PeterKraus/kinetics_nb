{
 "cells": [
  {
   "cell_type": "code",
   "execution_count": 1,
   "metadata": {},
   "outputs": [
    {
     "data": {
      "application/javascript": [
       "$('#appmode-leave').hide();\n",
       "$('#copy-binder-link').hide();\n",
       "$('#visit-repo-link').hide();\n"
      ],
      "text/plain": [
       "<IPython.core.display.Javascript object>"
      ]
     },
     "metadata": {},
     "output_type": "display_data"
    }
   ],
   "source": [
    "%%javascript\n",
    "$('#appmode-leave').hide();\n",
    "$('#copy-binder-link').hide();\n",
    "$('#visit-repo-link').hide();"
   ]
  },
  {
   "cell_type": "code",
   "execution_count": 2,
   "metadata": {},
   "outputs": [],
   "source": [
    "import ipywidgets as ipw\n",
    "import json\n",
    "import random\n",
    "import time\n",
    "import pandas as pd\n",
    "import os\n",
    "import webbrowser\n",
    "import math\n",
    "from IPython.display import display, Markdown\n",
    "\n",
    "# set kinetic parameters\n",
    "with open(\"labs.json\") as infile:\n",
    "    jsdata = json.load(infile)\n",
    "\n",
    "params = jsdata[\"cal1\"]\n",
    "\n",
    "#random.seed(params[\"error\"].get(\"seed\", 0))\n",
    "t = int( time.time() * 1000.0 )\n",
    "random.seed( ((t & 0xff000000) >> 24) +\n",
    "             ((t & 0x00ff0000) >>  8) +\n",
    "             ((t & 0x0000ff00) <<  8) +\n",
    "             ((t & 0x000000ff) << 24)   )\n",
    "\n",
    "params[\"nTime\"] = 50\n",
    "params[\"relaxTime\"] = 3\n",
    "params[\"mixTime\"] = 20\n",
    "params[\"roomT\"] = random.gauss(298,2)\n",
    "params[\"slope\"] = (2*random.random()-1) / params[\"nTime\"]\n",
    "params[\"error\"] = 0.5"
   ]
  },
  {
   "cell_type": "markdown",
   "metadata": {},
   "source": [
    "Copyright **Peter Kraus and Paolo Raiteri**, January 2021\n",
    "\n",
    "## Calorimetry #1\n",
    "\n",
    "Same as the lab, after the heat capacity of the calorimeter has been measured."
   ]
  },
  {
   "cell_type": "code",
   "execution_count": 3,
   "metadata": {},
   "outputs": [
    {
     "data": {
      "application/vnd.jupyter.widget-view+json": {
       "model_id": "824e0c847019447d9e913f6f992ef2ba",
       "version_major": 2,
       "version_minor": 0
      },
      "text/plain": [
       "VBox(children=(HBox(children=(Label(value='Heat capacity of calorimeter  :  '), Text(value='1000'))), HBox(chi…"
      ]
     },
     "metadata": {},
     "output_type": "display_data"
    }
   ],
   "source": [
    "respath = os.path.join(os.getcwd(), \"..\", \"results.csv\")\n",
    "\n",
    "out_P = ipw.Output()\n",
    "out_L = ipw.Output()\n",
    "\n",
    "with out_L:\n",
    "    display(Markdown(\"[Download CSV](../results.csv)\"))\n",
    "\n",
    "def measure(mA,mB,CalCp,SaltCp):\n",
    "\n",
    "    molesA = mA * params[\"molAcid\"] / 1000\n",
    "    molesB = mB * params[\"molBase\"] / 1000\n",
    "    molesFormed = min(molesA,molesB)\n",
    "    negHeat = params[\"deltaHf\"] * molesFormed\n",
    "    \n",
    "    totalMass = mA + mB\n",
    "    heatCapacitySolution = totalMass * SaltCp\n",
    "    \n",
    "    deltaT =  negHeat / (heatCapacitySolution + CalCp)\n",
    "    \n",
    "    return deltaT\n",
    "    \n",
    "def calc(btn):\n",
    "    out_P.clear_output()\n",
    "    \n",
    "    # Measurement result\n",
    "    deltaT = measure(\n",
    "        float(massA.value),\n",
    "        float(massB.value),\n",
    "        float(CalCp.value),\n",
    "        float(SaltCp.value))\n",
    "    \n",
    "    res = pd.DataFrame(columns=[\"Time [min]\" , \"T [K]\"])\n",
    "\n",
    "    for i in range(0, params[\"nTime\"]):\n",
    "        var_list = []\n",
    "        var_list.append(i)\n",
    "        tempOut = params[\"roomT\"] + random.gauss(0,params[\"error\"]) + params[\"slope\"] * i\n",
    "        if (i > params[\"mixTime\"]):\n",
    "            tempOut = tempOut + deltaT * (1-math.exp(-(i-params[\"mixTime\"])/params[\"relaxTime\"] ))\n",
    "            \n",
    "        var_list.append(tempOut)\n",
    "        res.loc[len(res)] = var_list\n",
    "    \n",
    "    res.to_csv(respath, index=False)\n",
    "    with out_P:\n",
    "        display(res.tail(50))\n",
    "\n",
    "def reset(btn):\n",
    "    if os.path.exists(respath):\n",
    "        os.remove(respath)\n",
    "    \n",
    "    with out_P:\n",
    "        out_P.clear_output()\n",
    "\n",
    "# interactive buttons ---\n",
    "btn_calc = ipw.Button(description=\"Perform Experiment\", layout=ipw.Layout(width=\"150px\"))\n",
    "btn_calc.on_click(calc)\n",
    "\n",
    "btn_reset = ipw.Button(description=\"Reset Experiment\", layout=ipw.Layout(width=\"150px\"))\n",
    "btn_reset.on_click(reset)\n",
    "\n",
    "# ---\n",
    "reset(btn_reset)\n",
    "\n",
    "# --- create the boxes and sliders\n",
    "rows = []\n",
    "\n",
    "CalCp = ipw.Text(\"1000\")\n",
    "rows.append(ipw.HBox([ipw.Label('Heat capacity of calorimeter  :  '),CalCp]))\n",
    "\n",
    "SaltCp = ipw.Text(\"0.1\")\n",
    "rows.append(ipw.HBox([ipw.Label('Specific heat capacity of the salt  :  '),SaltCp]))\n",
    "\n",
    "massA = ipw.FloatLogSlider(value=1, min=-4, max=3)\n",
    "massB = ipw.FloatLogSlider(value=1, min=-4, max=3)\n",
    "rows.append(ipw.HBox([ipw.Label(value=\"Mass of acid solution [g]\", layout=ipw.Layout(width=\"250px\")), massA]))\n",
    "rows.append(ipw.HBox([ipw.Label(value=\"Mass of base solution [g]\", layout=ipw.Layout(width=\"250px\")), massB]))\n",
    "\n",
    "rows.append(ipw.HBox([btn_reset]))\n",
    "rows.append(ipw.HBox([btn_calc]))\n",
    "rows.append(ipw.HBox([out_L]))\n",
    "rows.append(ipw.HBox([out_P]))\n",
    "\n",
    "ipw.VBox(rows)"
   ]
  },
  {
   "cell_type": "code",
   "execution_count": null,
   "metadata": {},
   "outputs": [],
   "source": []
  }
 ],
 "metadata": {
  "kernelspec": {
   "display_name": "Python 3",
   "language": "python",
   "name": "python3"
  },
  "language_info": {
   "codemirror_mode": {
    "name": "ipython",
    "version": 3
   },
   "file_extension": ".py",
   "mimetype": "text/x-python",
   "name": "python",
   "nbconvert_exporter": "python",
   "pygments_lexer": "ipython3",
   "version": "3.9.1"
  }
 },
 "nbformat": 4,
 "nbformat_minor": 4
}
