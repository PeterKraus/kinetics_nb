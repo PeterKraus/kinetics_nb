{
 "cells": [
  {
   "cell_type": "code",
   "execution_count": 1,
   "metadata": {},
   "outputs": [
    {
     "data": {
      "application/javascript": [
       "$('#appmode-leave').hide();\n",
       "$('#visit-repo-link').hide();\n"
      ],
      "text/plain": [
       "<IPython.core.display.Javascript object>"
      ]
     },
     "metadata": {},
     "output_type": "display_data"
    }
   ],
   "source": [
    "%%javascript\n",
    "$('#appmode-leave').hide();\n",
    "$('#visit-repo-link').hide();"
   ]
  },
  {
   "cell_type": "markdown",
   "metadata": {},
   "source": [
    "Copyright **Peter Kraus and Paolo Raiteri**, January 2021\n",
    "\n",
    "## Determination of the Rate Law \\#1\n",
    "The rates of thermolysis of a variety of $cis-$ and $trans-$azoalkanes have been measured over a range of temperatures to settle a controversy concerning the mechanism of the reaction. \n",
    "In ethanol, an unstable $cis-$azoalkane decomposed at a rate that can be followed by observing the $N_2$ evolution, and this can be used to determine the rate constant of the reaction. \n",
    "Perform a virtual series of such experiments at different temperatures and calculate the enthalpy, entropy and the Gibbs free energy of activation at -20$^\\circ$C.\n",
    "\n",
    "\n",
    "### Instructions:\n",
    "\n",
    "- Use the slide bar below to select temperature at which you perform the virtual experiment, \n",
    "- Click `Perform measurement` to run the virtual experiment and obtain the result of the experiment,\n",
    "- Click `Download CSV` to export the complete data set for all the experiments as a CSV file."
   ]
  },
  {
   "cell_type": "code",
   "execution_count": 2,
   "metadata": {},
   "outputs": [],
   "source": [
    "import ipywidgets as ipw\n",
    "import json\n",
    "import random\n",
    "import time\n",
    "import pandas as pd\n",
    "import os\n",
    "import webbrowser\n",
    "import math\n",
    "from IPython.display import display, Markdown"
   ]
  },
  {
   "cell_type": "code",
   "execution_count": 3,
   "metadata": {},
   "outputs": [],
   "source": [
    "# set kinetic parameters\n",
    "with open(\"rate_parameters.json\") as infile:\n",
    "    jsdata = json.load(infile)\n",
    "\n",
    "params = jsdata[\"kin6\"]\n"
   ]
  },
  {
   "cell_type": "code",
   "execution_count": 4,
   "metadata": {},
   "outputs": [],
   "source": [
    "# delete existing result file and setup rng\n",
    "if os.path.exists(os.path.join(os.getcwd(), \"results.csv\")):\n",
    "    os.remove(os.path.join(os.getcwd(), \"results.csv\"))\n",
    "\n",
    "#random.seed(params[\"error\"].get(\"seed\", 0))\n",
    "t = int( time.time() * 1000.0 )\n",
    "random.seed( ((t & 0xff000000) >> 24) +\n",
    "             ((t & 0x00ff0000) >>  8) +\n",
    "             ((t & 0x0000ff00) <<  8) +\n",
    "             ((t & 0x000000ff) << 24)   )\n"
   ]
  },
  {
   "cell_type": "code",
   "execution_count": null,
   "metadata": {},
   "outputs": [],
   "source": []
  },
  {
   "cell_type": "code",
   "execution_count": 5,
   "metadata": {},
   "outputs": [
    {
     "data": {
      "application/vnd.jupyter.widget-view+json": {
       "model_id": "dcaf0b0ccc0d447e90f8904208189ef0",
       "version_major": 2,
       "version_minor": 0
      },
      "text/plain": [
       "VBox(children=(HBox(children=(Label(value='Temperature:', layout=Layout(width='250px')), FloatSlider(value=260…"
      ]
     },
     "metadata": {},
     "output_type": "display_data"
    },
    {
     "name": "stdout",
     "output_type": "stream",
     "text": [
      "-7.142295433834313\n",
      "10644.055565578206 260.0\n",
      "33.79637981838956\n"
     ]
    }
   ],
   "source": [
    "out_R = ipw.Label(value=\"Click Calculate.\")\n",
    "out_P = ipw.Output()\n",
    "out_L = ipw.Output()\n",
    "\n",
    "result = \"Rate constant (s$^{-1}$)\"\n",
    "\n",
    "with out_L:\n",
    "    display(Markdown(\"[Download CSV](./results.csv)\"))\n",
    "    \n",
    "def calc(btn):\n",
    "    lnK = -params[\"dH\"] / 8.3145 / temp.value + params[\"dS\"] / 8.3145\n",
    "    R = math.exp(lnK)\n",
    "    \n",
    "    # Random error\n",
    "    dR = R * params[\"error\"].get(\"random\", 0) * (0.5 - random.random()) * 2 \n",
    "    # Systematic error\n",
    "    dR = dR + R * params[\"error\"].get(\"systematic\", 0)\n",
    "    out_R.value = f\"{R + dR:.6e}\"\n",
    "    out_P.clear_output()\n",
    "    try:\n",
    "        res = pd.read_csv(\"results.csv\") \n",
    "    except FileNotFoundError:\n",
    "        res = pd.DataFrame(columns=[\"Temperature (K)\",\n",
    "                                    result])\n",
    "    res = res.append({\"Temperature (K)\": temp.value, \n",
    "                      result: R + dR}, \n",
    "                     ignore_index=True)\n",
    "    res.to_csv(\"results.csv\", index=False)\n",
    "    with out_P:\n",
    "        display(res.tail(50))\n",
    "\n",
    "def reset(btn):\n",
    "    if os.path.exists(os.path.join(os.getcwd(), \"results.csv\")):\n",
    "        os.remove(os.path.join(os.getcwd(), \"results.csv\"))\n",
    "    res = pd.DataFrame(columns=[\"Temperature (K)\",\n",
    "                                result])\n",
    "\n",
    "    res.to_csv(\"results.csv\", index=False)\n",
    "    with out_P:\n",
    "        out_P.clear_output()\n",
    "        display(res.tail(50))\n",
    "\n",
    "temp = ipw.FloatSlider(value=params[\"temp\"], min=100, max=300)\n",
    "\n",
    "btn_reset = ipw.Button(description=\"Restart Laboratory\", layout=ipw.Layout(width=\"150px\"))\n",
    "btn_reset.on_click(reset)\n",
    "\n",
    "\n",
    "btn_calc = ipw.Button(description=\"Perform measurement\", layout=ipw.Layout(width=\"150px\"))\n",
    "btn_calc.on_click(calc)\n",
    "\n",
    "rows = []\n",
    "rows.append(ipw.HBox([ipw.Label(value=f\"Temperature:\", \n",
    "                                layout=ipw.Layout(width=\"250px\")),\n",
    "                      temp,\n",
    "                      ipw.Label(value=\"(K)\")]))\n",
    "\n",
    "rows.append(ipw.HBox([ipw.Label(value=\"Rate constant:\", \n",
    "                                layout=ipw.Layout(width=\"250px\")), \n",
    "                      out_R,\n",
    "                      ipw.Label(value=\"$(s^{-1})$\")]))\n",
    "\n",
    "rows.append(ipw.HBox([btn_reset, btn_calc, out_L]))\n",
    "rows.append(ipw.HBox([out_P]))\n",
    "reset(btn_reset)\n",
    "ipw.VBox(rows)"
   ]
  },
  {
   "cell_type": "code",
   "execution_count": null,
   "metadata": {},
   "outputs": [],
   "source": []
  },
  {
   "cell_type": "code",
   "execution_count": null,
   "metadata": {},
   "outputs": [],
   "source": []
  }
 ],
 "metadata": {
  "kernelspec": {
   "display_name": "Python 3",
   "language": "python",
   "name": "python3"
  },
  "language_info": {
   "codemirror_mode": {
    "name": "ipython",
    "version": 3
   },
   "file_extension": ".py",
   "mimetype": "text/x-python",
   "name": "python",
   "nbconvert_exporter": "python",
   "pygments_lexer": "ipython3",
   "version": "3.9.1"
  }
 },
 "nbformat": 4,
 "nbformat_minor": 4
}
