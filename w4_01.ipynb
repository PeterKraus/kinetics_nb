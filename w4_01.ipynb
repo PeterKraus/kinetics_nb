{
 "cells": [
  {
   "cell_type": "code",
   "execution_count": 1,
   "metadata": {},
   "outputs": [
    {
     "data": {
      "application/javascript": [
       "$('#appmode-leave').hide();\n",
       "$('#copy-binder-link').hide();\n",
       "$('#visit-repo-link').hide();\n"
      ],
      "text/plain": [
       "<IPython.core.display.Javascript object>"
      ]
     },
     "metadata": {},
     "output_type": "display_data"
    }
   ],
   "source": [
    "%%javascript\n",
    "$('#appmode-leave').hide();\n",
    "$('#copy-binder-link').hide();\n",
    "$('#visit-repo-link').hide();"
   ]
  },
  {
   "cell_type": "code",
   "execution_count": 2,
   "metadata": {},
   "outputs": [],
   "source": [
    "import ipywidgets as ipw\n",
    "import json\n",
    "import random\n",
    "import time\n",
    "import pandas as pd\n",
    "import os\n",
    "import webbrowser\n",
    "import math\n",
    "from IPython.display import display, Markdown\n",
    "\n",
    "# set kinetic parameters\n",
    "with open(\"rate_parameters.json\") as infile:\n",
    "    jsdata = json.load(infile)\n",
    "\n",
    "params = jsdata[\"kin1\"]"
   ]
  },
  {
   "cell_type": "markdown",
   "metadata": {},
   "source": [
    "Copyright **Peter Kraus and Paolo Raiteri**, January 2021\n",
    "\n",
    "## Numerical solution of chemical equilibrium problems #1\n",
    "Imagine a simple dimerisation reaction\n",
    "\\begin{equation}\n",
    "2A \\to B\n",
    "\\end{equation}\n",
    "\n",
    "whose equilibrium constant can be writen as\n",
    "\\begin{equation}\n",
    "K_{eq} = \\frac{[B]}{[A]^2} = 0.156\n",
    "\\end{equation}\n",
    "\n",
    "ALthough this is a simple problem that can be solved analytically, in this workshop we will learn how we can use an iterative method to numerically solve it.\n",
    "We will use a self consisten procedure, which can be applied to a large number of problems, for which it is not possible or it is too complicated to get an analytic solution.\n",
    "\n",
    "Imagine to mix the reagents and then to be able to monitor at discrete and equally spaced time intervals (*timesteps*) the concentration of all the species in the system. What you will see is that the concetrations will change and tendo to the equilibrium value. As you have learnt in first year, the reation quotient, $Q$, can be used to decided which way to reaction will proceed, and that at equilibruim the reaction quotient is equal to the equilibrium constant. Hence, the reation quotient can be seen as the *driving force* that brings the system towards equilibrium.\n",
    "\n",
    "Analogously to the procedure you would use to analytically solve this problem, we will start from the *ICE* table\n",
    "\n",
    "|      | [A]        | [B]\n",
    "| :--- | :--------: |:---------:\n",
    "| *I*  | [A]$_0$    | [B]$_0$\n",
    "| *C*  | -2x        | x\n",
    "| *E*  | [A]$_0$-2x | [B]$_0$+x\n",
    "\n",
    "Here below you can see the working principle of the self-consistent procesure that we will emply\n",
    "\n",
    "1. compute the reaction quotient at beginning of the experiment\n",
    "\\begin{equation}\n",
    "Q = \\dfrac{\\mathrm{[B]}_0}{\\mathrm{[A]}^2_0}\n",
    "\\end{equation}\n",
    "\n",
    "2. determine the driving force.\n",
    "You have learnt that if $Q/K_{eq}>1$ the reaction proceeds towards the reactants, which we can call the *negative* direction. On the other hand, if $Q/K_{eq}<1$ it goes towards the products, *i.e.* the positive direction.\n",
    "This means that the *driving force* has opposite sign when the $Q/K_{eq}$ becomes smaller or larger than one.\n",
    "A common mathematical function that has the same property is the logarithm, which indeed can provide a way to define the *force force* that has the desired sign using the $Q/K_{eq}$ ratio\n",
    "\\begin{equation}\n",
    "F \\propto -\\ln\\bigg[\\frac{Q}{K_{eq}}\\bigg]\n",
    "\\end{equation}\n",
    "\n",
    "3. After an arbitrarily short time interval has passed you can imagine that the concentrations of all the species in the system have changed according the the *C* row of the *ICE* table by an amount that is prortional to the driving force, *i.e*\n",
    "\\begin{equation}\n",
    "x = -\\delta\\ln\\bigg[\\frac{Q}{K_{eq}}\\bigg]\n",
    "\\end{equation}\n",
    "\n",
    "4. Repeat from step 1 until there are no more change in the concentrations of all the species.\n",
    "\n",
    "Follow now the demstrator explaining how to create an excel spreadsheet that implements those steps.\n",
    "\n",
    "Now try yourself.\n",
    "\n",
    "- Click `Download CSV` to export the data as a CSV file to verify your result.\n"
   ]
  },
  {
   "cell_type": "code",
   "execution_count": 3,
   "metadata": {},
   "outputs": [],
   "source": [
    "def initialise():\n",
    "    global nPoints\n",
    "    global concA, concB\n",
    "    global Keq\n",
    "    global delta\n",
    "\n",
    "    nPoints = 20\n",
    "    concA = 1\n",
    "    concB = 0.1\n",
    "    Keq = 0.156\n",
    "    delta = 0.001\n",
    "\n",
    "def addLine(t,x,y,res,Q):\n",
    "    var_list = []\n",
    "    var_list.append(t)\n",
    "    var_list.append(x)\n",
    "    var_list.append(y)\n",
    "    var_list.append(Q)\n",
    "    res.loc[len(res)] = var_list\n",
    "\n",
    "initialise()\n"
   ]
  },
  {
   "cell_type": "code",
   "execution_count": 4,
   "metadata": {},
   "outputs": [
    {
     "data": {
      "application/vnd.jupyter.widget-view+json": {
       "model_id": "299d38507bdf4288ba9925a2297bfe74",
       "version_major": 2,
       "version_minor": 0
      },
      "text/plain": [
       "VBox(children=(HBox(children=(Label(value='Initial concentration of A   :  '), Text(value='1'))), HBox(childre…"
      ]
     },
     "metadata": {},
     "output_type": "display_data"
    }
   ],
   "source": [
    "out_P = ipw.Output()\n",
    "out_L = ipw.Output()\n",
    "\n",
    "with out_L:\n",
    "    display(Markdown(\"[Download CSV](./results.csv)\"))\n",
    "\n",
    "    \n",
    "def force(Q,k):\n",
    "    if (abs(Q) > 1.e-6):\n",
    "        force = - math.log(Q/k)\n",
    "    else:\n",
    "        force = 1.\n",
    "\n",
    "    return force\n",
    "\n",
    "def calc1(btn):\n",
    "    out_P.clear_output()\n",
    "    \n",
    "    if os.path.exists(os.path.join(os.getcwd(), \"results.csv\")):\n",
    "        os.remove(os.path.join(os.getcwd(), \"results.csv\"))\n",
    "    res = pd.DataFrame(columns=[\"step\" , \"[A]\" , \"[B]\", \"Q\"])\n",
    "\n",
    "    A = float(concA_text.value)\n",
    "    B = float(concB_text.value)\n",
    "    dx = float(delta_text.value)\n",
    "    k = float(Keq_text.value)\n",
    "    n = int(nPoints_text.value)\n",
    "\n",
    "    Q = B / math.pow(A,2)\n",
    "    addLine(0,A,B,res,Q)\n",
    "\n",
    "    for i in range(0, n):\n",
    "        f = force(Q,k)\n",
    "        A = A - 2 * dx * f\n",
    "        B = B + dx * f\n",
    "        \n",
    "        Q = B / math.pow(A,2)\n",
    "        addLine(i,A,B,res,Q)\n",
    "        # Append result\n",
    "\n",
    "        \n",
    "    res.to_csv(\"results.csv\", index=False)\n",
    "    with out_P:\n",
    "        display(res.tail(n))\n",
    "\n",
    "btn_calc1 = ipw.Button(description=\"Get Data\", layout=ipw.Layout(width=\"150px\"))\n",
    "btn_calc1.on_click(calc1)\n",
    "\n",
    "rows = []\n",
    "\n",
    "# Equilibrium constant\n",
    "Keq_text = ipw.Text(str(Keq))\n",
    "\n",
    "# Initial concentrations\n",
    "concA_text = ipw.Text(str(concA))\n",
    "\n",
    "concB_text = ipw.Text(str(concB))\n",
    "\n",
    "# delta concentration\n",
    "delta_text = ipw.Text(str(delta))\n",
    "\n",
    "\n",
    "# Nmber of data points\n",
    "nPoints_text = ipw.Text(str(nPoints))\n",
    "\n",
    "rows.append(ipw.HBox([ipw.Label('Initial concentration of A   :  '),concA_text]))\n",
    "rows.append(ipw.HBox([ipw.Label('Initial concentration of B   :  '),concB_text]))\n",
    "rows.append(ipw.HBox([ipw.Label('Equilibrium constant         :  '),Keq_text]))\n",
    "rows.append(ipw.HBox([ipw.Label('Delta concentration          :  '),delta_text]))\n",
    "rows.append(ipw.HBox([ipw.Label('Number of data point required:  '),nPoints_text]))\n",
    "\n",
    "rows.append(ipw.HBox([btn_calc1]))\n",
    "\n",
    "rows.append(ipw.HBox([out_L]))\n",
    "rows.append(ipw.HBox([out_P]))\n",
    "\n",
    "ipw.VBox(rows)"
   ]
  },
  {
   "cell_type": "code",
   "execution_count": null,
   "metadata": {},
   "outputs": [],
   "source": []
  }
 ],
 "metadata": {
  "kernelspec": {
   "display_name": "Python 3",
   "language": "python",
   "name": "python3"
  },
  "language_info": {
   "codemirror_mode": {
    "name": "ipython",
    "version": 3
   },
   "file_extension": ".py",
   "mimetype": "text/x-python",
   "name": "python",
   "nbconvert_exporter": "python",
   "pygments_lexer": "ipython3",
   "version": "3.9.1"
  }
 },
 "nbformat": 4,
 "nbformat_minor": 4
}
