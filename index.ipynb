{
 "cells": [
  {
   "cell_type": "markdown",
   "metadata": {},
   "source": [
    "# Rate law notebook\n",
    "\n",
    "By **Peter Kraus and Paolo Raiteri**, January 2021\n",
    "\n",
    "## Instructions:\n",
    "\n",
    "- Adjust the concentration of `A` and `B` using the sliders below, \n",
    "- Click `Calculate` to obtain the reaction rate,\n",
    "- Click `Print` to show table of previous results,\n",
    "- Click `Download` to export the table as a csv file."
   ]
  },
  {
   "cell_type": "code",
   "execution_count": 1,
   "metadata": {},
   "outputs": [],
   "source": [
    "import ipywidgets as ipw\n",
    "import json\n",
    "import random\n",
    "import pandas as pd\n",
    "import os\n",
    "import webbrowser"
   ]
  },
  {
   "cell_type": "code",
   "execution_count": 2,
   "metadata": {},
   "outputs": [],
   "source": [
    "# set kinetic parameters\n",
    "with open(\"rate_parameters.json\") as infile:\n",
    "    jsdata = json.load(infile)\n",
    "\n",
    "params = jsdata[\"test\"]\n"
   ]
  },
  {
   "cell_type": "code",
   "execution_count": 3,
   "metadata": {},
   "outputs": [],
   "source": [
    "# delete existing result file and setup rng\n",
    "if os.path.exists(os.path.join(os.getcwd(), \"results.csv\")):\n",
    "    os.remove(os.path.join(os.getcwd(), \"results.csv\"))\n",
    "random.seed(params[\"error\"].get(\"seed\", 0))"
   ]
  },
  {
   "cell_type": "code",
   "execution_count": 4,
   "metadata": {},
   "outputs": [
    {
     "data": {
      "application/vnd.jupyter.widget-view+json": {
       "model_id": "a2816cb178654a91875c6194f153609f",
       "version_major": 2,
       "version_minor": 0
      },
      "text/plain": [
       "VBox(children=(HBox(children=(Label(value='Concentration of A:', layout=Layout(width='120px')), FloatLogSlider…"
      ]
     },
     "metadata": {},
     "output_type": "display_data"
    }
   ],
   "source": [
    "out_R = ipw.Label(value=\"Click Calculate.\")\n",
    "out_P = ipw.Output()\n",
    "\n",
    "def calc(btn):\n",
    "    R = params[\"k\"] * conc_A.value ** params[\"x\"] * conc_B.value ** params[\"y\"]\n",
    "    dR = R * params[\"error\"].get(\"random\", 0) * (0.5 - random.random()) + R * params[\"error\"].get(\"systematic\", 0)\n",
    "    out_R.value = f\"{R + dR:5.3E}\"\n",
    "    try:\n",
    "        res = pd.read_csv(\"results.csv\") \n",
    "    except FileNotFoundError:\n",
    "        res = pd.DataFrame(columns=[\"[A] (mol/l)\", \"[B] (mol/l)\", \"R (mol/l·s)\"])\n",
    "    res = res.append({\"[A] (mol/l)\": conc_A.value, \"[B] (mol/l)\": conc_B.value, \"R (mol/l·s)\": R + dR}, \n",
    "                     ignore_index=True)\n",
    "    res.to_csv(\"results.csv\", index=False)\n",
    "\n",
    "def printres(btn):\n",
    "    out_P.clear_output()\n",
    "    try:\n",
    "        res = pd.read_csv(\"results.csv\") \n",
    "    except FileNotFoundError:\n",
    "        res = pd.DataFrame(columns=[\"[A] (mol/l)\", \"[B] (mol/l)\", \"R (mol/l·s)\"])\n",
    "    with out_P:\n",
    "        display(res.tail())\n",
    "\n",
    "def download(btn):\n",
    "    url = \"./results.csv\"\n",
    "    webbrowser.open(url)\n",
    "        \n",
    "conc_A = ipw.FloatLogSlider(value=params[\"[A]\"], min=-2, max=1)\n",
    "conc_B = ipw.FloatLogSlider(value=params[\"[B]\"], min=-2, max=1)\n",
    "btn_calc = ipw.Button(description=\"Calculate\", layout=ipw.Layout(width=\"90px\"))\n",
    "btn_calc.on_click(calc)\n",
    "btn_print = ipw.Button(description=\"Print\", layout=ipw.Layout(width=\"50px\"))\n",
    "btn_print.on_click(printres)\n",
    "btn_down = ipw.Button(description=\"Download\", layout=ipw.Layout(width=\"90px\"))\n",
    "btn_down.on_click(download)\n",
    "\n",
    "rows = []\n",
    "rows.append(ipw.HBox([ipw.Label(value=\"Concentration of A:\", layout=ipw.Layout(width=\"120px\")), \n",
    "                      conc_A, \n",
    "                      ipw.Label(value=\"mol/l\")]))\n",
    "rows.append(ipw.HBox([ipw.Label(value=\"Concentration of B:\", layout=ipw.Layout(width=\"120px\")), \n",
    "                      conc_B, \n",
    "                      ipw.Label(value=\"mol/l\")]))\n",
    "rows.append(ipw.HBox([ipw.Label(value=\"Reaction rate is:\", layout=ipw.Layout(width=\"120px\")), \n",
    "                      out_R,\n",
    "                      ipw.Label(value=\"mol/l·s\")]))\n",
    "rows.append(ipw.HBox([btn_calc, btn_print, btn_down]))\n",
    "rows.append(ipw.HBox([out_P]))\n",
    "calc(btn_calc)\n",
    "ipw.VBox(rows)"
   ]
  },
  {
   "cell_type": "markdown",
   "metadata": {},
   "source": [
    "[Download CSV](./results.csv)"
   ]
  },
  {
   "cell_type": "code",
   "execution_count": null,
   "metadata": {},
   "outputs": [],
   "source": []
  }
 ],
 "metadata": {
  "kernelspec": {
   "display_name": "Python 3",
   "language": "python",
   "name": "python3"
  },
  "language_info": {
   "codemirror_mode": {
    "name": "ipython",
    "version": 3
   },
   "file_extension": ".py",
   "mimetype": "text/x-python",
   "name": "python",
   "nbconvert_exporter": "python",
   "pygments_lexer": "ipython3",
   "version": "3.9.1"
  }
 },
 "nbformat": 4,
 "nbformat_minor": 4
}
