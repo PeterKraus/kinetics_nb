{
 "cells": [
  {
   "cell_type": "code",
   "execution_count": 1,
   "metadata": {},
   "outputs": [
    {
     "data": {
      "application/javascript": [
       "$('#appmode-leave').hide();\n",
       "$('#visit-repo-link').hide();\n"
      ],
      "text/plain": [
       "<IPython.core.display.Javascript object>"
      ]
     },
     "metadata": {},
     "output_type": "display_data"
    }
   ],
   "source": [
    "%%javascript\n",
    "$('#appmode-leave').hide();\n",
    "$('#visit-repo-link').hide();"
   ]
  },
  {
   "cell_type": "markdown",
   "metadata": {},
   "source": [
    "# Rate law notebook\n",
    "\n",
    "Copyright **Peter Kraus and Paolo Raiteri**, January 2021\n",
    "\n",
    "## Determination of the Rate Law \\#1\n",
    "Imagine to perform a series of experiments where you mix nitrogen oxide, nitrogen dioxide and molecular oxygen to obtain gaseous di-nitrogen pentoxyde, according the the following reaction\n",
    "\\begin{equation*}\n",
    "NO (g)   +   NO_2  (g)   +  O_2 (g) \\to   N_2O_5 (g)\n",
    "\\end{equation*}\n",
    "\n",
    "Determine the rate law and the rate constant for the reaction.\\\n",
    "Tip: use the isolation method first to determine the rate law\n",
    "\n",
    "### Instructions:\n",
    "\n",
    "- Adjust the concentration of $NO$, $NO_2$ and  $O_2$ using the sliders below, \n",
    "- Click `Calculate` to run the virtual experiment and obtain the reaction rate,\n",
    "- Click `Download CSV` to export the complete data set for all the experiments as a CSV file."
   ]
  },
  {
   "cell_type": "code",
   "execution_count": 2,
   "metadata": {},
   "outputs": [],
   "source": [
    "import ipywidgets as ipw\n",
    "import json\n",
    "import random\n",
    "import time\n",
    "import pandas as pd\n",
    "import os\n",
    "import webbrowser\n",
    "from IPython.display import display, Markdown"
   ]
  },
  {
   "cell_type": "code",
   "execution_count": 3,
   "metadata": {},
   "outputs": [],
   "source": [
    "# set kinetic parameters\n",
    "with open(\"rate_parameters.json\") as infile:\n",
    "    jsdata = json.load(infile)\n",
    "\n",
    "params = jsdata[\"test\"]\n"
   ]
  },
  {
   "cell_type": "code",
   "execution_count": 4,
   "metadata": {},
   "outputs": [],
   "source": [
    "# delete existing result file and setup rng\n",
    "if os.path.exists(os.path.join(os.getcwd(), \"results.csv\")):\n",
    "    os.remove(os.path.join(os.getcwd(), \"results.csv\"))\n",
    "\n",
    "#random.seed(params[\"error\"].get(\"seed\", 0))\n",
    "t = int( time.time() * 1000.0 )\n",
    "random.seed( ((t & 0xff000000) >> 24) +\n",
    "             ((t & 0x00ff0000) >>  8) +\n",
    "             ((t & 0x0000ff00) <<  8) +\n",
    "             ((t & 0x000000ff) << 24)   )\n"
   ]
  },
  {
   "cell_type": "code",
   "execution_count": 10,
   "metadata": {},
   "outputs": [
    {
     "data": {
      "application/vnd.jupyter.widget-view+json": {
       "model_id": "fba7e7c05ab549ee99fbbc4a18f27232",
       "version_major": 2,
       "version_minor": 0
      },
      "text/plain": [
       "VBox(children=(HBox(children=(Label(value='Concentration of NO:', layout=Layout(width='150px')), FloatLogSlide…"
      ]
     },
     "metadata": {},
     "output_type": "display_data"
    }
   ],
   "source": [
    "out_R = ipw.Label(value=\"Click Calculate.\")\n",
    "out_P = ipw.Output()\n",
    "out_L = ipw.Output()\n",
    "\n",
    "species_A = \"[NO] (mol/l)\"\n",
    "species_B = \"[NO$_2$] (mol/l)\"\n",
    "species_C = \"[O$_2$] (mol/l)\"\n",
    "\n",
    "result = \"R (mol/l·s)\"\n",
    "\n",
    "with out_L:\n",
    "    display(Markdown(\"[Download CSV](./results.csv)\"))\n",
    "\n",
    "def calc(btn):\n",
    "    R = params[\"k\"] * conc_A.value ** params[\"x\"] * conc_B.value ** params[\"y\"]\n",
    "    # Random error\n",
    "    dR = R * params[\"error\"].get(\"random\", 0) * (0.5 - random.random()) * 2 \n",
    "    # Systematic error\n",
    "    dR = dR + R * params[\"error\"].get(\"systematic\", 0)\n",
    "    out_R.value = f\"{R + dR:.6e}\"\n",
    "    out_P.clear_output()\n",
    "    try:\n",
    "        res = pd.read_csv(\"results.csv\") \n",
    "    except FileNotFoundError:\n",
    "        res = pd.DataFrame(columns=[species_A, \n",
    "                                    species_B, \n",
    "                                    species_C, \n",
    "                                    result])\n",
    "    res = res.append({species_A: conc_A.value, \n",
    "                      species_B: conc_B.value, \n",
    "                      species_C: conc_C.value, \n",
    "                      result: R + dR}, \n",
    "                     ignore_index=True)\n",
    "    res.to_csv(\"results.csv\", index=False)\n",
    "    with out_P:\n",
    "        display(res.tail(50))\n",
    "\n",
    "def reset(btn):\n",
    "    if os.path.exists(os.path.join(os.getcwd(), \"results.csv\")):\n",
    "        os.remove(os.path.join(os.getcwd(), \"results.csv\"))\n",
    "    res = pd.DataFrame(columns=[species_A, \n",
    "                                species_B, \n",
    "                                species_C, \n",
    "                                result])\n",
    "    res.to_csv(\"results.csv\", index=False)\n",
    "    with out_P:\n",
    "        out_P.clear_output()\n",
    "        display(res.tail(50))\n",
    "\n",
    "\n",
    "conc_A = ipw.FloatLogSlider(value=params[\"[A]\"], min=-3, max=0)\n",
    "conc_B = ipw.FloatLogSlider(value=params[\"[B]\"], min=-3, max=0)\n",
    "conc_C = ipw.FloatLogSlider(value=params[\"[C]\"], min=-3, max=0)\n",
    "\n",
    "btn_reset = ipw.Button(description=\"Restart Laboratory\", layout=ipw.Layout(width=\"150px\"))\n",
    "btn_reset.on_click(reset)\n",
    "\n",
    "\n",
    "btn_calc = ipw.Button(description=\"Calculate Rate\", layout=ipw.Layout(width=\"150px\"))\n",
    "btn_calc.on_click(calc)\n",
    "\n",
    "rows = []\n",
    "rows.append(ipw.HBox([ipw.Label(value=\"Concentration of NO:\", layout=ipw.Layout(width=\"150px\")), \n",
    "                      conc_A, \n",
    "                      ipw.Label(value=\"mol/l\")]))\n",
    "rows.append(ipw.HBox([ipw.Label(value=\"Concentration of NO$_2$:\", layout=ipw.Layout(width=\"150px\")), \n",
    "                      conc_B, \n",
    "                      ipw.Label(value=\"mol/l\")]))\n",
    "rows.append(ipw.HBox([ipw.Label(value=\"Concentration of O$_2$:\", layout=ipw.Layout(width=\"150px\")), \n",
    "                      conc_C, \n",
    "                      ipw.Label(value=\"mol/l\")]))\n",
    "rows.append(ipw.HBox([ipw.Label(value=\"Initial reaction rate is:\", layout=ipw.Layout(width=\"150px\")), \n",
    "                      out_R,\n",
    "                      ipw.Label(value=\"mol/l·s\")]))\n",
    "rows.append(ipw.HBox([btn_reset, btn_calc, out_L]))\n",
    "rows.append(ipw.HBox([out_P]))\n",
    "#calc(btn_calc)\n",
    "ipw.VBox(rows)"
   ]
  },
  {
   "cell_type": "code",
   "execution_count": null,
   "metadata": {},
   "outputs": [],
   "source": []
  }
 ],
 "metadata": {
  "kernelspec": {
   "display_name": "Python 3",
   "language": "python",
   "name": "python3"
  },
  "language_info": {
   "codemirror_mode": {
    "name": "ipython",
    "version": 3
   },
   "file_extension": ".py",
   "mimetype": "text/x-python",
   "name": "python",
   "nbconvert_exporter": "python",
   "pygments_lexer": "ipython3",
   "version": "3.9.1"
  }
 },
 "nbformat": 4,
 "nbformat_minor": 4
}
