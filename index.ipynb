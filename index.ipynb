{
 "cells": [
  {
   "cell_type": "code",
   "execution_count": null,
   "metadata": {},
   "outputs": [],
   "source": [
    "%%javascript\n",
    "$('#appmode-leave').hide();\n",
    "$('#visit-repo-link').hide();"
   ]
  },
  {
   "cell_type": "markdown",
   "metadata": {},
   "source": [
    "# Rate law notebook\n",
    "\n",
    "Copyright **Peter Kraus and Paolo Raiteri**, January 2021\n",
    "\n",
    "## Kinetic problems\n",
    "\n",
    "- [Exercise #1](kinetics_01.ipynb): Reaction of nitrogen oxide, nitrogen dioxide and oxygen\n",
    "- [Exercise #2](kinetics_02.ipynb): Decomposition of benzene diazonium chloride\n",
    "- [Exercise #3](kinetics_03.ipynb): Absorbance\n",
    "- [Exercise #4](kinetics_04.ipynb): Decomposition reaction\n",
    "- [Exercise #5](kinetics_05.ipynb): Gas phase decomposition\n",
    "- [Exercise #6](kinetics_06.ipynb): Decomposition of 2-chloropropane\n",
    "\n",
    "## Equilibruim problems\n",
    "- [Exercise #1](equilibrium_01.ipynb): Thermolysis"
   ]
  },
  {
   "cell_type": "code",
   "execution_count": null,
   "metadata": {},
   "outputs": [],
   "source": []
  }
 ],
 "metadata": {
  "kernelspec": {
   "display_name": "Python 3",
   "language": "python",
   "name": "python3"
  },
  "language_info": {
   "codemirror_mode": {
    "name": "ipython",
    "version": 3
   },
   "file_extension": ".py",
   "mimetype": "text/x-python",
   "name": "python",
   "nbconvert_exporter": "python",
   "pygments_lexer": "ipython3",
   "version": "3.9.1"
  }
 },
 "nbformat": 4,
 "nbformat_minor": 4
}
