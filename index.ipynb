{
 "cells": [
  {
   "cell_type": "markdown",
   "metadata": {},
   "source": [
    "# Rate law notebook\n",
    "\n",
    "Copyright **Peter Kraus and Paolo Raiteri**, January 2021\n",
    "\n",
    "## Kinetics exercises\n",
    "\n",
    "- [Exercise #1](kinetc) "
   ]
  },
  {
   "cell_type": "markdown",
   "metadata": {},
   "source": [
    "perform a series of experiments where you mix nitrogen oxide, nitrogen dioxide and molecular oxygen to obtain gaseous di-nitrogen pentoxyde, according the the following reaction\n",
    "\\begin{equation*}\n",
    "NO (g)   +   NO_2  (g)   +  O_2 (g) \\to   N_2O_5 (g)\n",
    "\\end{equation*}\n",
    "\n",
    "Determine the rate law and the rate constant for the reaction.\\\n",
    "Tip: use the isolation method first to determine the rate law\n",
    "\n",
    "### Instructions:\n",
    "\n",
    "- Adjust the concentration of $NO$, $NO_2$ and  $O_2$ using the sliders below, \n",
    "- Click `Calculate` to run the virtual experiment and obtain the reaction rate,\n",
    "- Click `Download CSV` to export the complete data set for all the experiments as a CSV file."
   ]
  }
 ],
 "metadata": {
  "kernelspec": {
   "display_name": "widgets",
   "language": "python",
   "name": "widgets"
  },
  "language_info": {
   "codemirror_mode": {
    "name": "ipython",
    "version": 3
   },
   "file_extension": ".py",
   "mimetype": "text/x-python",
   "name": "python",
   "nbconvert_exporter": "python",
   "pygments_lexer": "ipython3",
   "version": "3.9.1"
  }
 },
 "nbformat": 4,
 "nbformat_minor": 4
}
