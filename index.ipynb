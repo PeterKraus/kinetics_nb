{
 "cells": [
  {
   "cell_type": "code",
   "execution_count": 1,
   "metadata": {},
   "outputs": [
    {
     "data": {
      "application/javascript": [
       "$('#appmode-leave').hide();\n",
       "$('#copy-binder-link').hide();\n",
       "$('#visit-repo-link').hide();\n"
      ],
      "text/plain": [
       "<IPython.core.display.Javascript object>"
      ]
     },
     "metadata": {},
     "output_type": "display_data"
    }
   ],
   "source": [
    "%%javascript\n",
    "$('#appmode-leave').hide();\n",
    "$('#copy-binder-link').hide();\n",
    "$('#visit-repo-link').hide();"
   ]
  },
  {
   "cell_type": "markdown",
   "metadata": {},
   "source": [
    "# Chemical Energetics and Kinetics Virtual Notebook\n",
    "\n",
    "Copyright **Peter Kraus and Paolo Raiteri**, January 2021\n",
    "\n",
    "\n",
    "## First Virtual Lab - Statistics and Linear Regression\n",
    "\n",
    "- [Access Workshop](virtual_workshop_01.ipynb): Linear Regression\n",
    "\n",
    "## Second Virtual Lab - Kinetics\n",
    "\n",
    "- [Exercise #1](kinetics_01.ipynb): Reaction of nitrogen oxide, nitrogen dioxide and oxygen\n",
    "- [Exercise #2](kinetics_02.ipynb): Decomposition of benzene diazonium chloride\n",
    "- [Exercise #3](kinetics_03.ipynb): Absorbance\n",
    "- [Exercise #4](kinetics_04.ipynb): Decomposition reaction\n",
    "- [Exercise #5](kinetics_05.ipynb): Gas phase decomposition\n",
    "- [Exercise #6](kinetics_07.ipynb): Decompositio reaction\n",
    "- [Exercise #7](kinetics_06.ipynb): Activation Energy\n",
    "\n",
    "## Third Virtual Lab - Equilibrium\n",
    "\n",
    "- [Exercise #1](kinetics_08.ipynb): Activation energy\n",
    "- [Exercise #2](equilibrium_01.ipynb): Ideal chemical equilibrium\n",
    "- [Exercise #3](equilibrium_02.ipynb): Non-ideal behaviour\n",
    "- [Exercise #4](w4_03.ipynb): Enzyme kinetics\n",
    "\n",
    "\n",
    "## Fourth Workshop - Self Consistent Problems\n",
    "\n",
    "- [Exercise #1](w4_01.ipynb): Reaching equilibrium \n",
    "- [Exercise #2](w4_02.ipynb): Common ion equilibrium\n",
    "- [Exercise #3](w4_03.ipynb): Phosphate ion equilibrium\n"
   ]
  },
  {
   "cell_type": "code",
   "execution_count": null,
   "metadata": {},
   "outputs": [],
   "source": []
  }
 ],
 "metadata": {
  "kernelspec": {
   "display_name": "Python 3",
   "language": "python",
   "name": "python3"
  },
  "language_info": {
   "codemirror_mode": {
    "name": "ipython",
    "version": 3
   },
   "file_extension": ".py",
   "mimetype": "text/x-python",
   "name": "python",
   "nbconvert_exporter": "python",
   "pygments_lexer": "ipython3",
   "version": "3.9.1"
  }
 },
 "nbformat": 4,
 "nbformat_minor": 4
}
