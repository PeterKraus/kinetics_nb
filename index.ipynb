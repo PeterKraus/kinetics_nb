{
 "cells": [
  {
   "cell_type": "code",
   "execution_count": 1,
   "metadata": {},
   "outputs": [
    {
     "data": {
      "application/javascript": [
       "$('#appmode-leave').hide();\n",
       "$('#visit-repo-link').hide();\n"
      ],
      "text/plain": [
       "<IPython.core.display.Javascript object>"
      ]
     },
     "metadata": {},
     "output_type": "display_data"
    }
   ],
   "source": [
    "%%javascript\n",
    "$('#appmode-leave').hide();\n",
    "$('#visit-repo-link').hide();"
   ]
  },
  {
   "cell_type": "markdown",
   "metadata": {},
   "source": [
    "# Rate law notebook\n",
    "\n",
    "By **Peter Kraus and Paolo Raiteri**, January 2021\n",
    "\n",
    "## Instructions:\n",
    "\n",
    "- Adjust the concentration of `A` and `B` using the sliders below, \n",
    "- Click `Calculate` to obtain the reaction rate,\n",
    "- Click `Download CSV` to export the complete table as a CSV file."
   ]
  },
  {
   "cell_type": "code",
   "execution_count": 2,
   "metadata": {},
   "outputs": [],
   "source": [
    "import ipywidgets as ipw\n",
    "import json\n",
    "import random\n",
    "import pandas as pd\n",
    "import os\n",
    "import webbrowser\n",
    "from IPython.display import display, Markdown"
   ]
  },
  {
   "cell_type": "code",
   "execution_count": 3,
   "metadata": {},
   "outputs": [],
   "source": [
    "# set kinetic parameters\n",
    "with open(\"rate_parameters.json\") as infile:\n",
    "    jsdata = json.load(infile)\n",
    "\n",
    "params = jsdata[\"test\"]\n"
   ]
  },
  {
   "cell_type": "code",
   "execution_count": 4,
   "metadata": {},
   "outputs": [],
   "source": [
    "# delete existing result file and setup rng\n",
    "if os.path.exists(os.path.join(os.getcwd(), \"results.csv\")):\n",
    "    os.remove(os.path.join(os.getcwd(), \"results.csv\"))\n",
    "random.seed(params[\"error\"].get(\"seed\", 0))"
   ]
  },
  {
   "cell_type": "code",
   "execution_count": 6,
   "metadata": {},
   "outputs": [
    {
     "data": {
      "application/vnd.jupyter.widget-view+json": {
       "model_id": "281f6d8c43c840acbfaf055006602e74",
       "version_major": 2,
       "version_minor": 0
      },
      "text/plain": [
       "VBox(children=(HBox(children=(Label(value='Concentration of A:', layout=Layout(width='120px')), FloatLogSlider…"
      ]
     },
     "metadata": {},
     "output_type": "display_data"
    }
   ],
   "source": [
    "out_R = ipw.Label(value=\"Click Calculate.\")\n",
    "out_P = ipw.Output()\n",
    "out_L = ipw.Output()\n",
    "\n",
    "with out_L:\n",
    "    display(Markdown(\"[Download CSV](./results.csv)\"))\n",
    "\n",
    "def calc(btn):\n",
    "    R = params[\"k\"] * conc_A.value ** params[\"x\"] * conc_B.value ** params[\"y\"]\n",
    "    dR = R * params[\"error\"].get(\"random\", 0) * (0.5 - random.random()) + R * params[\"error\"].get(\"systematic\", 0)\n",
    "    out_R.value = f\"{R + dR:.6e}\"\n",
    "    out_P.clear_output()\n",
    "    try:\n",
    "        res = pd.read_csv(\"results.csv\") \n",
    "    except FileNotFoundError:\n",
    "        res = pd.DataFrame(columns=[\"[A] (mol/l)\", \"[B] (mol/l)\", \"R (mol/l·s)\"])\n",
    "    res = res.append({\"[A] (mol/l)\": conc_A.value, \"[B] (mol/l)\": conc_B.value, \"R (mol/l·s)\": R + dR}, \n",
    "                     ignore_index=True)\n",
    "    res.to_csv(\"results.csv\", index=False)\n",
    "    with out_P:\n",
    "        display(res.tail(10))\n",
    "\n",
    "def reset(btn):\n",
    "    if os.path.exists(os.path.join(os.getcwd(), \"results.csv\")):\n",
    "        os.remove(os.path.join(os.getcwd(), \"results.csv\"))\n",
    "    res = pd.DataFrame(columns=[\"[A] (mol/l)\", \"[B] (mol/l)\", \"R (mol/l·s)\"])\n",
    "    res.to_csv(\"results.csv\", index=False)\n",
    "    with out_P:\n",
    "        out_P.clear_output()\n",
    "        display(res.tail(10))\n",
    "\n",
    "    \n",
    "conc_A = ipw.FloatLogSlider(value=params[\"[A]\"], min=-2, max=1)\n",
    "conc_B = ipw.FloatLogSlider(value=params[\"[B]\"], min=-2, max=1)\n",
    "\n",
    "btn_reset = ipw.Button(description=\"Restart Experiment\", layout=ipw.Layout(width=\"150px\"))\n",
    "btn_reset.on_click(reset)\n",
    "\n",
    "\n",
    "btn_calc = ipw.Button(description=\"Calculate Rate\", layout=ipw.Layout(width=\"120px\"))\n",
    "btn_calc.on_click(calc)\n",
    "\n",
    "rows = []\n",
    "rows.append(ipw.HBox([ipw.Label(value=\"Concentration of A:\", layout=ipw.Layout(width=\"120px\")), \n",
    "                      conc_A, \n",
    "                      ipw.Label(value=\"mol/l\")]))\n",
    "rows.append(ipw.HBox([ipw.Label(value=\"Concentration of B:\", layout=ipw.Layout(width=\"120px\")), \n",
    "                      conc_B, \n",
    "                      ipw.Label(value=\"mol/l\")]))\n",
    "rows.append(ipw.HBox([ipw.Label(value=\"Reaction rate is:\", layout=ipw.Layout(width=\"120px\")), \n",
    "                      out_R,\n",
    "                      ipw.Label(value=\"mol/l·s\")]))\n",
    "rows.append(ipw.HBox([btn_reset, btn_calc, out_L]))\n",
    "rows.append(ipw.HBox([out_P]))\n",
    "#calc(btn_calc)\n",
    "ipw.VBox(rows)"
   ]
  },
  {
   "cell_type": "code",
   "execution_count": null,
   "metadata": {},
   "outputs": [],
   "source": []
  }
 ],
 "metadata": {
  "kernelspec": {
   "display_name": "Python 3",
   "language": "python",
   "name": "python3"
  },
  "language_info": {
   "codemirror_mode": {
    "name": "ipython",
    "version": 3
   },
   "file_extension": ".py",
   "mimetype": "text/x-python",
   "name": "python",
   "nbconvert_exporter": "python",
   "pygments_lexer": "ipython3",
   "version": "3.9.1"
  }
 },
 "nbformat": 4,
 "nbformat_minor": 4
}
